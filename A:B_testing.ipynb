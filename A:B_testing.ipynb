{
 "cells": [
  {
   "cell_type": "markdown",
   "source": "# hw3\n## Teammate: Huidong Xu, Boliang Liu",
   "metadata": {
    "id": "kyrOP7CYc0Mi",
    "cell_id": "00000-b85cfd27-765d-4562-8dbf-5d716a44d7d2",
    "deepnote_cell_type": "markdown"
   }
  },
  {
   "cell_type": "code",
   "metadata": {
    "id": "nj5GcPFsc0Mj",
    "cell_id": "00001-5c579840-92f3-4678-9005-d01a914d40e6",
    "deepnote_to_be_reexecuted": false,
    "source_hash": "6c61b901",
    "execution_start": 1624598899294,
    "execution_millis": 2278,
    "deepnote_cell_type": "code"
   },
   "source": "import numpy as np\nimport pandas as pd\nimport matplotlib.pyplot as plt\nfrom scipy import stats\nfrom scipy.stats import norm, bernoulli\nimport random\nimport statistics",
   "execution_count": 1,
   "outputs": []
  },
  {
   "cell_type": "markdown",
   "source": "# 1",
   "metadata": {
    "id": "gz8lmGjcc0Mj",
    "cell_id": "00002-de023d1b-b3ee-41e4-809f-ce24accf6e6f",
    "deepnote_cell_type": "markdown"
   }
  },
  {
   "cell_type": "code",
   "metadata": {
    "id": "CEU7u7OGc0Mk",
    "cell_id": "00003-786605bb-800f-420a-b75b-0280c1a3d1df",
    "deepnote_cell_type": "code"
   },
   "source": "data = pd.read_csv('retail.csv')",
   "execution_count": null,
   "outputs": []
  },
  {
   "cell_type": "code",
   "metadata": {
    "colab": {
     "base_uri": "https://localhost:8080/",
     "height": 204
    },
    "id": "-k0DDJtEc0Mk",
    "outputId": "00ac68b0-1ff5-4cbc-c077-ce84b9c1c6bc",
    "cell_id": "00004-5354b675-54a3-4d73-bafb-c02bd8907c9b",
    "deepnote_cell_type": "code"
   },
   "source": "data.head()",
   "execution_count": null,
   "outputs": [
    {
     "output_type": "execute_result",
     "data": {
      "text/html": "<div>\n<style scoped>\n    .dataframe tbody tr th:only-of-type {\n        vertical-align: middle;\n    }\n\n    .dataframe tbody tr th {\n        vertical-align: top;\n    }\n\n    .dataframe thead th {\n        text-align: right;\n    }\n</style>\n<table border=\"1\" class=\"dataframe\">\n  <thead>\n    <tr style=\"text-align: right;\">\n      <th></th>\n      <th>A</th>\n      <th>B</th>\n    </tr>\n  </thead>\n  <tbody>\n    <tr>\n      <th>0</th>\n      <td>50.63</td>\n      <td>53.28</td>\n    </tr>\n    <tr>\n      <th>1</th>\n      <td>54.15</td>\n      <td>52.28</td>\n    </tr>\n    <tr>\n      <th>2</th>\n      <td>51.09</td>\n      <td>44.93</td>\n    </tr>\n    <tr>\n      <th>3</th>\n      <td>52.34</td>\n      <td>46.06</td>\n    </tr>\n    <tr>\n      <th>4</th>\n      <td>47.46</td>\n      <td>48.59</td>\n    </tr>\n  </tbody>\n</table>\n</div>",
      "text/plain": "       A      B\n0  50.63  53.28\n1  54.15  52.28\n2  51.09  44.93\n3  52.34  46.06\n4  47.46  48.59"
     },
     "metadata": {
      "tags": []
     },
     "execution_count": 4
    }
   ]
  },
  {
   "cell_type": "markdown",
   "source": "## (a)",
   "metadata": {
    "id": "dLANgJEqc0Mk",
    "cell_id": "00005-3816a22f-7284-4701-b133-58a278e170d7",
    "deepnote_cell_type": "markdown"
   }
  },
  {
   "cell_type": "code",
   "metadata": {
    "id": "WqAnh5VTc0Ml",
    "cell_id": "00006-0da363d1-0d40-4032-8e4a-6635105d33bf",
    "deepnote_cell_type": "code"
   },
   "source": "A_customers = data.A.values",
   "execution_count": null,
   "outputs": []
  },
  {
   "cell_type": "code",
   "metadata": {
    "id": "DAbT-z7wc0Ml",
    "cell_id": "00007-0122d287-0016-4b98-a1b8-5b1037795c31",
    "deepnote_cell_type": "code"
   },
   "source": "reject_times = 0\n\nfor _ in range(1000):\n    # randomly split customers in “condition A” into A1 and A2\n    A1 = []\n    A2 = []\n    for value in A_customers:\n        group_index = random.choice([1, 2])\n        if group_index == 1:\n            A1.append(value)\n        else:\n            A2.append(value)\n\n    # t test for mean difference mu_A1 and mu_A2\n    n1 = len(A1)\n    n2 = len(A2)\n    mean1 = np.mean(A1)\n    mean2 = np.mean(A2)\n    s1_squared = statistics.variance(A1)\n    s2_squared = statistics.variance(A2)\n    pooled_variance = ((n1-1)*s1_squared + (n2-1)*s2_squared) / (n1+n2-2)\n    t_stat = (mean1-mean2) / (pooled_variance * np.sqrt(1/n1 + 2/n2))\n    pval = stats.t.sf(abs(t_stat), n1+n2-2)*2  # two sided\n\n    if pval < 0.05: # reject H0\n        reject_times += 1",
   "execution_count": null,
   "outputs": []
  },
  {
   "cell_type": "code",
   "metadata": {
    "colab": {
     "base_uri": "https://localhost:8080/"
    },
    "id": "ixGeM_Nuc0Ml",
    "outputId": "2a7d5ee5-4428-40d6-aefe-b4d45d6422e6",
    "cell_id": "00008-63a04e1e-783f-4c7a-af4f-196a54761ff2",
    "deepnote_cell_type": "code"
   },
   "source": "print('the number of times we reject the null hypothesis:', reject_times)",
   "execution_count": null,
   "outputs": [
    {
     "output_type": "stream",
     "text": "the number of times we reject the null hypothesis: 0\n",
     "name": "stdout"
    }
   ]
  },
  {
   "cell_type": "code",
   "metadata": {
    "colab": {
     "base_uri": "https://localhost:8080/"
    },
    "id": "0j1oQws2c0Mm",
    "outputId": "dce9f938-8b91-4de6-94bd-4a12514fb58f",
    "cell_id": "00009-43a69b0f-08a5-452b-9429-ac15a3296ed0",
    "deepnote_cell_type": "code"
   },
   "source": "proportion = reject_times / 1000\nif proportion < 0.05: \n    print(\"Users assigned to A behave similarly.\")    \nelse: \n    print(\"Reject H0. Users assigned to A don't behave similarly.\")",
   "execution_count": null,
   "outputs": [
    {
     "output_type": "stream",
     "text": "Users assigned to A behave similarly.\n",
     "name": "stdout"
    }
   ]
  },
  {
   "cell_type": "markdown",
   "source": "## (b)",
   "metadata": {
    "id": "XxPamXP7c0Mm",
    "cell_id": "00010-00dedde8-19cd-401a-9181-00efbe252674",
    "deepnote_cell_type": "markdown"
   }
  },
  {
   "cell_type": "code",
   "metadata": {
    "id": "gCTFB-rlc0Mn",
    "cell_id": "00011-ef380415-b3d6-4adc-b6ea-46a7705d30c5",
    "deepnote_cell_type": "code"
   },
   "source": "A_prices = data.A.values\nB_prices = data.B.values",
   "execution_count": null,
   "outputs": []
  },
  {
   "cell_type": "markdown",
   "source": "H0: mu_A <= mu_B  \nHa: mu_A > mu_B    ",
   "metadata": {
    "id": "eFIG4Q8yc0Mn",
    "cell_id": "00012-dd1f38e2-3aff-4165-ab45-fb8dc78d9fd2",
    "deepnote_cell_type": "markdown"
   }
  },
  {
   "cell_type": "code",
   "metadata": {
    "id": "9OLtdjRHc0Mn",
    "cell_id": "00013-43fb193d-754b-427b-8d76-80b8952febbc",
    "deepnote_cell_type": "code"
   },
   "source": "# t test \nn1 = len(A_prices)\nn2 = len(B_prices)\n\nmean1 = np.mean(A_prices)\nmean2 = np.mean(B_prices)\n\ns1_squared = statistics.variance(A_prices)\ns2_squared = statistics.variance(B_prices)\npooled_variance = ((n1-1)*s1_squared + (n2-1)*s2_squared) / (n1+n2-2)\n\nt_stat = (mean1-mean2) / (pooled_variance * np.sqrt(1/n1 + 2/n2))\n\npval = stats.t.sf(abs(t_stat), n1+n2-2)  # one sided",
   "execution_count": null,
   "outputs": []
  },
  {
   "cell_type": "code",
   "metadata": {
    "colab": {
     "base_uri": "https://localhost:8080/"
    },
    "id": "wkUNkVs7c0Mn",
    "outputId": "517debe8-e2d5-4b20-a9bf-533a02e49412",
    "cell_id": "00014-f8d1e9c4-eb15-46b1-b292-2f33b382515b",
    "deepnote_cell_type": "code"
   },
   "source": "if pval < 0.05: \n    print(\"Reject H0. We conclude that condition A results, on average, in significantly larger purchase prices than condition B, at a 5% level of significance. \")    \nelse: \n    print(\"Do not reject H0. Condition A results doesn't results significantly larger purchase prices than condition B. \")",
   "execution_count": null,
   "outputs": [
    {
     "output_type": "stream",
     "text": "Reject H0. We conclude that condition A results, on average, in significantly larger purchase prices than condition B, at a 5% level of significance. \n",
     "name": "stdout"
    }
   ]
  },
  {
   "cell_type": "markdown",
   "source": "## (c)",
   "metadata": {
    "id": "XTcWpECOc0Mo",
    "cell_id": "00015-9fad64cf-31f2-4922-b710-04daf06d3e16",
    "deepnote_cell_type": "markdown"
   }
  },
  {
   "cell_type": "code",
   "metadata": {
    "id": "jQE9F_Doc0Mo",
    "cell_id": "00016-1299b4fe-dc4f-45ae-a6f3-d7be3ff76698",
    "deepnote_cell_type": "code"
   },
   "source": "def sample_size_calculator_mean_test(α, δ, k, σ_2, power, alternative):\n    \"\"\" α: alpha\n        δ: effect size \n        k: sample-size multiplier\n        σ2: the population variance\n        power: desired power = 1-β\n    \"\"\"\n    β = 1 - power\n    z_β = stats.norm.ppf(1-(1-β))\n\n    if alternative == 'not.equal':\n        n2 = (1/k + 1) * (stats.norm.ppf(1-α/2) - z_β) ** 2 * σ_2 / (δ**2)\n    else:\n        n2 = (1/k + 1) * (stats.norm.ppf(1-α) - z_β) ** 2 * σ_2 / (δ**2)\n        \n    n1 = k * n2\n    \n    return int(n1), int(n2)",
   "execution_count": null,
   "outputs": []
  },
  {
   "cell_type": "code",
   "metadata": {
    "colab": {
     "base_uri": "https://localhost:8080/"
    },
    "id": "i_J43HETc0Mo",
    "outputId": "c2641dcd-16bc-4ffb-ae96-41f38e9f1f3d",
    "cell_id": "00017-73b40ddc-03cb-4ebf-80ad-e18c7991fca0",
    "deepnote_cell_type": "code"
   },
   "source": "α = 0.05\nδ = 1\nk = 1\nσ_2 = 25\npower = 0.9\nalternative = 'greater.than'\nsample_size_calculator_mean_test(α, δ, k, σ_2, power, alternative)",
   "execution_count": null,
   "outputs": [
    {
     "output_type": "execute_result",
     "data": {
      "text/plain": "(428, 428)"
     },
     "metadata": {
      "tags": []
     },
     "execution_count": 13
    }
   ]
  },
  {
   "cell_type": "markdown",
   "source": "# 2",
   "metadata": {
    "id": "x2659L0fc0Mp",
    "cell_id": "00018-71708504-b133-4508-84e6-b5a6fd9d018b",
    "deepnote_cell_type": "markdown"
   }
  },
  {
   "cell_type": "code",
   "metadata": {
    "colab": {
     "base_uri": "https://localhost:8080/",
     "height": 204
    },
    "id": "218cmXuyc0Mp",
    "outputId": "3271fa0c-65bc-4ddb-fa3f-b60366f12417",
    "cell_id": "00019-e82937c5-d03e-4914-a435-b7a359a776f0",
    "deepnote_cell_type": "code"
   },
   "source": "candy = pd.read_csv('candycrush.csv')\ncandy.head()",
   "execution_count": null,
   "outputs": [
    {
     "output_type": "execute_result",
     "data": {
      "text/html": "<div>\n<style scoped>\n    .dataframe tbody tr th:only-of-type {\n        vertical-align: middle;\n    }\n\n    .dataframe tbody tr th {\n        vertical-align: top;\n    }\n\n    .dataframe thead th {\n        text-align: right;\n    }\n</style>\n<table border=\"1\" class=\"dataframe\">\n  <thead>\n    <tr style=\"text-align: right;\">\n      <th></th>\n      <th>time</th>\n      <th>booster</th>\n    </tr>\n  </thead>\n  <tbody>\n    <tr>\n      <th>0</th>\n      <td>9.675618</td>\n      <td>3</td>\n    </tr>\n    <tr>\n      <th>1</th>\n      <td>4.446914</td>\n      <td>1</td>\n    </tr>\n    <tr>\n      <th>2</th>\n      <td>10.403742</td>\n      <td>3</td>\n    </tr>\n    <tr>\n      <th>3</th>\n      <td>6.693658</td>\n      <td>2</td>\n    </tr>\n    <tr>\n      <th>4</th>\n      <td>5.777017</td>\n      <td>2</td>\n    </tr>\n  </tbody>\n</table>\n</div>",
      "text/plain": "        time  booster\n0   9.675618        3\n1   4.446914        1\n2  10.403742        3\n3   6.693658        2\n4   5.777017        2"
     },
     "metadata": {
      "tags": []
     },
     "execution_count": 14
    }
   ]
  },
  {
   "cell_type": "markdown",
   "source": "## (a)",
   "metadata": {
    "id": "ankUfpcNc0Mp",
    "cell_id": "00020-1a6240b4-8bc5-4d75-917f-02c6b17ab6f0",
    "deepnote_cell_type": "markdown"
   }
  },
  {
   "cell_type": "code",
   "metadata": {
    "id": "KaTul4E6c0Mq",
    "cell_id": "00021-b98277dd-fc1a-4421-bb9f-cd7188faf819",
    "deepnote_cell_type": "code"
   },
   "source": "booster_1 = candy[candy['booster'] == 1].time\nbooster_2 = candy[candy['booster'] == 2].time\nbooster_3 = candy[candy['booster'] == 3].time",
   "execution_count": null,
   "outputs": []
  },
  {
   "cell_type": "markdown",
   "source": "+ test 1:  \nH0: mu_1 >= mu_2  \nHa: mu_1 < mu_2   # booster 1 is less than booster 2\n \n+ test 2:  \nH0: mu_1 >= mu_3  \nHa: mu_1 < mu_3   # booster 1 is less then booster 3\n  \n+ test 3:  \nH0: mu_2 >= mu_3  \nHa: mu_2 < mu_3   # booster 2 is less then booster 3",
   "metadata": {
    "id": "yO3miQCOc0Mq",
    "cell_id": "00022-1a39d58a-3af4-4ab1-a31c-0d0d1e5d9b15",
    "deepnote_cell_type": "markdown"
   }
  },
  {
   "cell_type": "code",
   "metadata": {
    "id": "SU5C9yaZc0Mq",
    "cell_id": "00023-66388199-7018-4f0e-a417-cd9c68813cd7",
    "deepnote_cell_type": "code"
   },
   "source": "def pairwise_t_test(s1, s2, adjusted_alpha):\n    # t test \n    n1 = len(s1)\n    n2 = len(s2)\n\n    mean1 = np.mean(s1)\n    mean2 = np.mean(s2)\n\n    s1_squared = statistics.variance(s1)\n    s2_squared = statistics.variance(s2)\n    pooled_variance = ((n1-1)*s1_squared + (n2-1)*s2_squared) / (n1+n2-2)\n\n    t_stat = (mean1-mean2) / (pooled_variance * np.sqrt(1/n1 + 2/n2))\n\n    pval = stats.t.sf(abs(t_stat), n1+n2-2)  # one sided\n    \n    if pval < adjusted_alpha: \n        print(\"Reject H0.\")    \n    else: \n        print(\"Do not reject H0. \")\n    return pval",
   "execution_count": null,
   "outputs": []
  },
  {
   "cell_type": "code",
   "metadata": {
    "colab": {
     "base_uri": "https://localhost:8080/"
    },
    "id": "nFVpmniLc0Mq",
    "outputId": "5b2b513b-1dae-4022-b5e9-16739a3a85e9",
    "cell_id": "00024-a6e9d299-0cfc-4f04-87b5-f759e9d3b3e8",
    "deepnote_cell_type": "code"
   },
   "source": "alpha = 0.05\nadjusted_alpha = alpha / 3\nadjusted_alpha",
   "execution_count": null,
   "outputs": [
    {
     "output_type": "execute_result",
     "data": {
      "text/plain": "0.016666666666666666"
     },
     "metadata": {
      "tags": []
     },
     "execution_count": 17
    }
   ]
  },
  {
   "cell_type": "markdown",
   "source": "### test 1:  \nH0: mu_1 >= mu_2  \nHa: mu_1 < mu_2   # booster 1 is less than booster 2",
   "metadata": {
    "id": "63iPyMh1c0Mr",
    "cell_id": "00025-200756a9-870f-48ea-a04f-9c204a9813df",
    "deepnote_cell_type": "markdown"
   }
  },
  {
   "cell_type": "code",
   "metadata": {
    "colab": {
     "base_uri": "https://localhost:8080/"
    },
    "id": "HP1CsKgXc0Mr",
    "outputId": "526f8c05-1ab6-4299-ed30-f3d5134d9789",
    "cell_id": "00026-4a842723-23e3-4929-a01d-1c31a5a13c91",
    "deepnote_cell_type": "code"
   },
   "source": "pval_1 = pairwise_t_test(booster_1, booster_2, adjusted_alpha)\nprint('Adjusted p-value for test 1 is', pval_1)",
   "execution_count": null,
   "outputs": [
    {
     "output_type": "stream",
     "text": "Reject H0.\nAdjusted p-value for test 1 is 4.517698195380547e-22\n",
     "name": "stdout"
    }
   ]
  },
  {
   "cell_type": "markdown",
   "source": "There is evidence suggests mu_1 < mu_2.",
   "metadata": {
    "id": "joQ33q2fc0Mr",
    "cell_id": "00027-61a3ab57-cf99-4eb5-ba89-7b346ccbfbba",
    "deepnote_cell_type": "markdown"
   }
  },
  {
   "cell_type": "markdown",
   "source": "### test 2:  \nH0: mu_1 >= mu_3  \nHa: mu_1 < mu_3   # booster 1 is less than booster 3",
   "metadata": {
    "id": "ck63VQ-Jc0Mr",
    "cell_id": "00028-f0a92b94-9497-4ebc-81cd-b7ea3e2e3ac7",
    "deepnote_cell_type": "markdown"
   }
  },
  {
   "cell_type": "code",
   "metadata": {
    "colab": {
     "base_uri": "https://localhost:8080/"
    },
    "id": "_oqbRFoZc0Ms",
    "outputId": "3445fda5-79e9-4f99-eedf-614bb0df5fc8",
    "cell_id": "00029-4c1e3262-2db7-4e00-b21b-69e3f98202b8",
    "deepnote_cell_type": "code"
   },
   "source": "pval_2 = pairwise_t_test(booster_1, booster_3, adjusted_alpha)\nprint('Adjusted p-value for test 1 is', pval_2)",
   "execution_count": null,
   "outputs": [
    {
     "output_type": "stream",
     "text": "Reject H0.\nAdjusted p-value for test 1 is 1.8016400121459934e-84\n",
     "name": "stdout"
    }
   ]
  },
  {
   "cell_type": "markdown",
   "source": "There is evidence suggests mu_1 < mu_3.\n\n",
   "metadata": {
    "id": "5TsxyzD4c0Ms",
    "cell_id": "00030-044c76a1-d59e-4338-923a-d7992590cfe5",
    "deepnote_cell_type": "markdown"
   }
  },
  {
   "cell_type": "markdown",
   "source": "### test 3:  \nH0: mu_2 >= mu_3  \nHa: mu_2 < mu_3   # booster 2 is less then booster 3",
   "metadata": {
    "id": "XtO2nv8jc0Ms",
    "cell_id": "00031-10c39b63-8965-494f-8d47-3148c5d152d6",
    "deepnote_cell_type": "markdown"
   }
  },
  {
   "cell_type": "code",
   "metadata": {
    "colab": {
     "base_uri": "https://localhost:8080/"
    },
    "id": "wDlpL0iSc0Mt",
    "outputId": "f4954b61-dfc3-43f4-c71e-8e2620112e75",
    "cell_id": "00032-7f0aaf48-7d91-4ee0-8b72-4a8280944908",
    "deepnote_cell_type": "code"
   },
   "source": "pval_3 = pairwise_t_test(booster_2, booster_3, adjusted_alpha)\nprint('Adjusted p-value for test 1 is', pval_3)",
   "execution_count": null,
   "outputs": [
    {
     "output_type": "stream",
     "text": "Reject H0.\nAdjusted p-value for test 1 is 2.3988524151994085e-66\n",
     "name": "stdout"
    }
   ]
  },
  {
   "cell_type": "markdown",
   "source": "There is evidence suggests mu_2 < mu_3.",
   "metadata": {
    "id": "-XyOp-hbc0Mu",
    "cell_id": "00033-a46a90ae-629c-40b4-afe3-39f5cf5b32c6",
    "deepnote_cell_type": "markdown"
   }
  },
  {
   "cell_type": "markdown",
   "source": "So we get mu_1 < mu_2 < mu_3.  \nBooster 3 is associated with the largest average length of game play.",
   "metadata": {
    "id": "WFXexeH3c0Mu",
    "cell_id": "00034-45a4cf5a-0a20-44b1-8777-723372a30667",
    "deepnote_cell_type": "markdown"
   }
  },
  {
   "cell_type": "code",
   "metadata": {
    "colab": {
     "base_uri": "https://localhost:8080/"
    },
    "id": "Jd421MKWc0Mw",
    "outputId": "86905455-645a-45aa-9524-7be69700aa26",
    "cell_id": "00035-d4bce750-a407-4f88-8b59-c95c0fbec530",
    "deepnote_cell_type": "code"
   },
   "source": "np.mean(booster_1), np.mean(booster_2), np.mean(booster_3)",
   "execution_count": null,
   "outputs": [
    {
     "output_type": "execute_result",
     "data": {
      "text/plain": "(5.012806007768593, 6.188083192762961, 9.895591194393168)"
     },
     "metadata": {
      "tags": []
     },
     "execution_count": 21
    }
   ]
  },
  {
   "cell_type": "code",
   "metadata": {
    "id": "H4gpNtyic0Mw",
    "cell_id": "00036-fb97e90c-0116-4a65-a1f0-0b45b2e6bcc1",
    "deepnote_cell_type": "code"
   },
   "source": "",
   "execution_count": null,
   "outputs": []
  },
  {
   "cell_type": "markdown",
   "source": "## (b)",
   "metadata": {
    "id": "pza1kXPzc0Mw",
    "cell_id": "00037-1af09e25-a364-4f83-ba1a-f26f4468961b",
    "deepnote_cell_type": "markdown"
   }
  },
  {
   "cell_type": "markdown",
   "source": "We have 3 booster conditions from which we'd like to optimize a metric -- playing time. First, we get an initial guess for the playing time by running at least one sample to each condition. Second, we choose greedy algorithm. Then assign next unit to the best condition and calculate the mean values for each condition until iterating all units. Finally, we can get the booster with the largest average length of game play",
   "metadata": {
    "id": "0133RAlRkEQK",
    "cell_id": "00038-0e13814b-9559-48e7-bac9-1ede4d91e8a9",
    "deepnote_cell_type": "markdown"
   }
  },
  {
   "cell_type": "markdown",
   "source": "# 3",
   "metadata": {
    "id": "un3YavB5c0Mx",
    "cell_id": "00039-a016f9da-02b5-4cc5-872e-fa8c63e8d4a1",
    "deepnote_cell_type": "markdown"
   }
  },
  {
   "cell_type": "code",
   "metadata": {
    "id": "l-xublCnc0Mx",
    "cell_id": "00040-b25e463b-d770-4101-a0a2-c82ca73b138f",
    "deepnote_to_be_reexecuted": false,
    "source_hash": "8677c0d7",
    "execution_start": 1624599018180,
    "execution_millis": 76,
    "deepnote_cell_type": "code"
   },
   "source": "nike = pd.read_csv('nike.csv')",
   "execution_count": 6,
   "outputs": []
  },
  {
   "cell_type": "code",
   "metadata": {
    "colab": {
     "base_uri": "https://localhost:8080/",
     "height": 419
    },
    "id": "f7Z4u-zKc0Mx",
    "outputId": "3efe9d13-812d-4170-c4ea-fc5d5f781828",
    "cell_id": "00041-b7ad2d6f-ff7c-4de8-bb00-287e4e641110",
    "deepnote_to_be_reexecuted": false,
    "source_hash": "2573506f",
    "execution_start": 1624599022201,
    "execution_millis": 162,
    "deepnote_cell_type": "code"
   },
   "source": "nike",
   "execution_count": 7,
   "outputs": [
    {
     "output_type": "execute_result",
     "execution_count": 7,
     "data": {
      "application/vnd.deepnote.dataframe.v2+json": {
       "row_count": 100000,
       "column_count": 4,
       "columns": [
        {
         "name": "Region",
         "dtype": "object",
         "stats": {
          "unique_count": 4,
          "nan_count": 0,
          "categories": [
           {
            "name": "NE",
            "count": 25000
           },
           {
            "name": "MW",
            "count": 25000
           },
           {
            "name": "2 others",
            "count": 50000
           }
          ]
         }
        },
        {
         "name": "Ad",
         "dtype": "int64"
        },
        {
         "name": "Subject",
         "dtype": "int64"
        },
        {
         "name": "Y",
         "dtype": "int64"
        },
        {
         "name": "_deepnote_index_column",
         "dtype": "int64"
        }
       ],
       "rows_top": [
        {
         "Region": "NE",
         "Ad": 1,
         "Subject": 1,
         "Y": 0,
         "_deepnote_index_column": 0
        },
        {
         "Region": "NE",
         "Ad": 1,
         "Subject": 2,
         "Y": 1,
         "_deepnote_index_column": 1
        },
        {
         "Region": "NE",
         "Ad": 1,
         "Subject": 3,
         "Y": 1,
         "_deepnote_index_column": 2
        },
        {
         "Region": "NE",
         "Ad": 1,
         "Subject": 4,
         "Y": 0,
         "_deepnote_index_column": 3
        },
        {
         "Region": "NE",
         "Ad": 1,
         "Subject": 5,
         "Y": 0,
         "_deepnote_index_column": 4
        },
        {
         "Region": "NE",
         "Ad": 1,
         "Subject": 6,
         "Y": 0,
         "_deepnote_index_column": 5
        },
        {
         "Region": "NE",
         "Ad": 1,
         "Subject": 7,
         "Y": 0,
         "_deepnote_index_column": 6
        },
        {
         "Region": "NE",
         "Ad": 1,
         "Subject": 8,
         "Y": 0,
         "_deepnote_index_column": 7
        },
        {
         "Region": "NE",
         "Ad": 1,
         "Subject": 9,
         "Y": 0,
         "_deepnote_index_column": 8
        },
        {
         "Region": "NE",
         "Ad": 1,
         "Subject": 10,
         "Y": 0,
         "_deepnote_index_column": 9
        },
        {
         "Region": "NE",
         "Ad": 1,
         "Subject": 11,
         "Y": 0,
         "_deepnote_index_column": 10
        },
        {
         "Region": "NE",
         "Ad": 1,
         "Subject": 12,
         "Y": 0,
         "_deepnote_index_column": 11
        },
        {
         "Region": "NE",
         "Ad": 1,
         "Subject": 13,
         "Y": 0,
         "_deepnote_index_column": 12
        },
        {
         "Region": "NE",
         "Ad": 1,
         "Subject": 14,
         "Y": 1,
         "_deepnote_index_column": 13
        },
        {
         "Region": "NE",
         "Ad": 1,
         "Subject": 15,
         "Y": 1,
         "_deepnote_index_column": 14
        },
        {
         "Region": "NE",
         "Ad": 1,
         "Subject": 16,
         "Y": 0,
         "_deepnote_index_column": 15
        },
        {
         "Region": "NE",
         "Ad": 1,
         "Subject": 17,
         "Y": 0,
         "_deepnote_index_column": 16
        },
        {
         "Region": "NE",
         "Ad": 1,
         "Subject": 18,
         "Y": 0,
         "_deepnote_index_column": 17
        },
        {
         "Region": "NE",
         "Ad": 1,
         "Subject": 19,
         "Y": 0,
         "_deepnote_index_column": 18
        },
        {
         "Region": "NE",
         "Ad": 1,
         "Subject": 20,
         "Y": 0,
         "_deepnote_index_column": 19
        },
        {
         "Region": "NE",
         "Ad": 1,
         "Subject": 21,
         "Y": 1,
         "_deepnote_index_column": 20
        },
        {
         "Region": "NE",
         "Ad": 1,
         "Subject": 22,
         "Y": 0,
         "_deepnote_index_column": 21
        },
        {
         "Region": "NE",
         "Ad": 1,
         "Subject": 23,
         "Y": 0,
         "_deepnote_index_column": 22
        },
        {
         "Region": "NE",
         "Ad": 1,
         "Subject": 24,
         "Y": 0,
         "_deepnote_index_column": 23
        },
        {
         "Region": "NE",
         "Ad": 1,
         "Subject": 25,
         "Y": 0,
         "_deepnote_index_column": 24
        },
        {
         "Region": "NE",
         "Ad": 1,
         "Subject": 26,
         "Y": 0,
         "_deepnote_index_column": 25
        },
        {
         "Region": "NE",
         "Ad": 1,
         "Subject": 27,
         "Y": 0,
         "_deepnote_index_column": 26
        },
        {
         "Region": "NE",
         "Ad": 1,
         "Subject": 28,
         "Y": 0,
         "_deepnote_index_column": 27
        },
        {
         "Region": "NE",
         "Ad": 1,
         "Subject": 29,
         "Y": 1,
         "_deepnote_index_column": 28
        },
        {
         "Region": "NE",
         "Ad": 1,
         "Subject": 30,
         "Y": 0,
         "_deepnote_index_column": 29
        },
        {
         "Region": "NE",
         "Ad": 1,
         "Subject": 31,
         "Y": 0,
         "_deepnote_index_column": 30
        },
        {
         "Region": "NE",
         "Ad": 1,
         "Subject": 32,
         "Y": 0,
         "_deepnote_index_column": 31
        },
        {
         "Region": "NE",
         "Ad": 1,
         "Subject": 33,
         "Y": 0,
         "_deepnote_index_column": 32
        },
        {
         "Region": "NE",
         "Ad": 1,
         "Subject": 34,
         "Y": 1,
         "_deepnote_index_column": 33
        },
        {
         "Region": "NE",
         "Ad": 1,
         "Subject": 35,
         "Y": 1,
         "_deepnote_index_column": 34
        },
        {
         "Region": "NE",
         "Ad": 1,
         "Subject": 36,
         "Y": 0,
         "_deepnote_index_column": 35
        },
        {
         "Region": "NE",
         "Ad": 1,
         "Subject": 37,
         "Y": 0,
         "_deepnote_index_column": 36
        },
        {
         "Region": "NE",
         "Ad": 1,
         "Subject": 38,
         "Y": 0,
         "_deepnote_index_column": 37
        },
        {
         "Region": "NE",
         "Ad": 1,
         "Subject": 39,
         "Y": 1,
         "_deepnote_index_column": 38
        },
        {
         "Region": "NE",
         "Ad": 1,
         "Subject": 40,
         "Y": 1,
         "_deepnote_index_column": 39
        },
        {
         "Region": "NE",
         "Ad": 1,
         "Subject": 41,
         "Y": 1,
         "_deepnote_index_column": 40
        },
        {
         "Region": "NE",
         "Ad": 1,
         "Subject": 42,
         "Y": 0,
         "_deepnote_index_column": 41
        },
        {
         "Region": "NE",
         "Ad": 1,
         "Subject": 43,
         "Y": 0,
         "_deepnote_index_column": 42
        },
        {
         "Region": "NE",
         "Ad": 1,
         "Subject": 44,
         "Y": 0,
         "_deepnote_index_column": 43
        },
        {
         "Region": "NE",
         "Ad": 1,
         "Subject": 45,
         "Y": 0,
         "_deepnote_index_column": 44
        },
        {
         "Region": "NE",
         "Ad": 1,
         "Subject": 46,
         "Y": 0,
         "_deepnote_index_column": 45
        },
        {
         "Region": "NE",
         "Ad": 1,
         "Subject": 47,
         "Y": 0,
         "_deepnote_index_column": 46
        },
        {
         "Region": "NE",
         "Ad": 1,
         "Subject": 48,
         "Y": 0,
         "_deepnote_index_column": 47
        },
        {
         "Region": "NE",
         "Ad": 1,
         "Subject": 49,
         "Y": 0,
         "_deepnote_index_column": 48
        },
        {
         "Region": "NE",
         "Ad": 1,
         "Subject": 50,
         "Y": 0,
         "_deepnote_index_column": 49
        },
        {
         "Region": "NE",
         "Ad": 1,
         "Subject": 51,
         "Y": 0,
         "_deepnote_index_column": 50
        },
        {
         "Region": "NE",
         "Ad": 1,
         "Subject": 52,
         "Y": 0,
         "_deepnote_index_column": 51
        },
        {
         "Region": "NE",
         "Ad": 1,
         "Subject": 53,
         "Y": 0,
         "_deepnote_index_column": 52
        },
        {
         "Region": "NE",
         "Ad": 1,
         "Subject": 54,
         "Y": 0,
         "_deepnote_index_column": 53
        },
        {
         "Region": "NE",
         "Ad": 1,
         "Subject": 55,
         "Y": 0,
         "_deepnote_index_column": 54
        },
        {
         "Region": "NE",
         "Ad": 1,
         "Subject": 56,
         "Y": 0,
         "_deepnote_index_column": 55
        },
        {
         "Region": "NE",
         "Ad": 1,
         "Subject": 57,
         "Y": 0,
         "_deepnote_index_column": 56
        },
        {
         "Region": "NE",
         "Ad": 1,
         "Subject": 58,
         "Y": 0,
         "_deepnote_index_column": 57
        },
        {
         "Region": "NE",
         "Ad": 1,
         "Subject": 59,
         "Y": 0,
         "_deepnote_index_column": 58
        },
        {
         "Region": "NE",
         "Ad": 1,
         "Subject": 60,
         "Y": 1,
         "_deepnote_index_column": 59
        },
        {
         "Region": "NE",
         "Ad": 1,
         "Subject": 61,
         "Y": 1,
         "_deepnote_index_column": 60
        },
        {
         "Region": "NE",
         "Ad": 1,
         "Subject": 62,
         "Y": 0,
         "_deepnote_index_column": 61
        },
        {
         "Region": "NE",
         "Ad": 1,
         "Subject": 63,
         "Y": 0,
         "_deepnote_index_column": 62
        },
        {
         "Region": "NE",
         "Ad": 1,
         "Subject": 64,
         "Y": 0,
         "_deepnote_index_column": 63
        },
        {
         "Region": "NE",
         "Ad": 1,
         "Subject": 65,
         "Y": 1,
         "_deepnote_index_column": 64
        },
        {
         "Region": "NE",
         "Ad": 1,
         "Subject": 66,
         "Y": 0,
         "_deepnote_index_column": 65
        },
        {
         "Region": "NE",
         "Ad": 1,
         "Subject": 67,
         "Y": 0,
         "_deepnote_index_column": 66
        },
        {
         "Region": "NE",
         "Ad": 1,
         "Subject": 68,
         "Y": 0,
         "_deepnote_index_column": 67
        },
        {
         "Region": "NE",
         "Ad": 1,
         "Subject": 69,
         "Y": 0,
         "_deepnote_index_column": 68
        },
        {
         "Region": "NE",
         "Ad": 1,
         "Subject": 70,
         "Y": 1,
         "_deepnote_index_column": 69
        },
        {
         "Region": "NE",
         "Ad": 1,
         "Subject": 71,
         "Y": 1,
         "_deepnote_index_column": 70
        },
        {
         "Region": "NE",
         "Ad": 1,
         "Subject": 72,
         "Y": 0,
         "_deepnote_index_column": 71
        },
        {
         "Region": "NE",
         "Ad": 1,
         "Subject": 73,
         "Y": 1,
         "_deepnote_index_column": 72
        },
        {
         "Region": "NE",
         "Ad": 1,
         "Subject": 74,
         "Y": 0,
         "_deepnote_index_column": 73
        },
        {
         "Region": "NE",
         "Ad": 1,
         "Subject": 75,
         "Y": 1,
         "_deepnote_index_column": 74
        },
        {
         "Region": "NE",
         "Ad": 1,
         "Subject": 76,
         "Y": 1,
         "_deepnote_index_column": 75
        },
        {
         "Region": "NE",
         "Ad": 1,
         "Subject": 77,
         "Y": 0,
         "_deepnote_index_column": 76
        },
        {
         "Region": "NE",
         "Ad": 1,
         "Subject": 78,
         "Y": 1,
         "_deepnote_index_column": 77
        },
        {
         "Region": "NE",
         "Ad": 1,
         "Subject": 79,
         "Y": 0,
         "_deepnote_index_column": 78
        },
        {
         "Region": "NE",
         "Ad": 1,
         "Subject": 80,
         "Y": 0,
         "_deepnote_index_column": 79
        },
        {
         "Region": "NE",
         "Ad": 1,
         "Subject": 81,
         "Y": 1,
         "_deepnote_index_column": 80
        },
        {
         "Region": "NE",
         "Ad": 1,
         "Subject": 82,
         "Y": 1,
         "_deepnote_index_column": 81
        },
        {
         "Region": "NE",
         "Ad": 1,
         "Subject": 83,
         "Y": 0,
         "_deepnote_index_column": 82
        },
        {
         "Region": "NE",
         "Ad": 1,
         "Subject": 84,
         "Y": 1,
         "_deepnote_index_column": 83
        },
        {
         "Region": "NE",
         "Ad": 1,
         "Subject": 85,
         "Y": 0,
         "_deepnote_index_column": 84
        },
        {
         "Region": "NE",
         "Ad": 1,
         "Subject": 86,
         "Y": 0,
         "_deepnote_index_column": 85
        },
        {
         "Region": "NE",
         "Ad": 1,
         "Subject": 87,
         "Y": 1,
         "_deepnote_index_column": 86
        },
        {
         "Region": "NE",
         "Ad": 1,
         "Subject": 88,
         "Y": 0,
         "_deepnote_index_column": 87
        },
        {
         "Region": "NE",
         "Ad": 1,
         "Subject": 89,
         "Y": 1,
         "_deepnote_index_column": 88
        },
        {
         "Region": "NE",
         "Ad": 1,
         "Subject": 90,
         "Y": 0,
         "_deepnote_index_column": 89
        },
        {
         "Region": "NE",
         "Ad": 1,
         "Subject": 91,
         "Y": 0,
         "_deepnote_index_column": 90
        },
        {
         "Region": "NE",
         "Ad": 1,
         "Subject": 92,
         "Y": 1,
         "_deepnote_index_column": 91
        },
        {
         "Region": "NE",
         "Ad": 1,
         "Subject": 93,
         "Y": 0,
         "_deepnote_index_column": 92
        },
        {
         "Region": "NE",
         "Ad": 1,
         "Subject": 94,
         "Y": 0,
         "_deepnote_index_column": 93
        },
        {
         "Region": "NE",
         "Ad": 1,
         "Subject": 95,
         "Y": 0,
         "_deepnote_index_column": 94
        },
        {
         "Region": "NE",
         "Ad": 1,
         "Subject": 96,
         "Y": 0,
         "_deepnote_index_column": 95
        },
        {
         "Region": "NE",
         "Ad": 1,
         "Subject": 97,
         "Y": 0,
         "_deepnote_index_column": 96
        },
        {
         "Region": "NE",
         "Ad": 1,
         "Subject": 98,
         "Y": 0,
         "_deepnote_index_column": 97
        },
        {
         "Region": "NE",
         "Ad": 1,
         "Subject": 99,
         "Y": 0,
         "_deepnote_index_column": 98
        },
        {
         "Region": "NE",
         "Ad": 1,
         "Subject": 100,
         "Y": 0,
         "_deepnote_index_column": 99
        },
        {
         "Region": "NE",
         "Ad": 1,
         "Subject": 101,
         "Y": 1,
         "_deepnote_index_column": 100
        },
        {
         "Region": "NE",
         "Ad": 1,
         "Subject": 102,
         "Y": 0,
         "_deepnote_index_column": 101
        },
        {
         "Region": "NE",
         "Ad": 1,
         "Subject": 103,
         "Y": 0,
         "_deepnote_index_column": 102
        },
        {
         "Region": "NE",
         "Ad": 1,
         "Subject": 104,
         "Y": 0,
         "_deepnote_index_column": 103
        },
        {
         "Region": "NE",
         "Ad": 1,
         "Subject": 105,
         "Y": 1,
         "_deepnote_index_column": 104
        },
        {
         "Region": "NE",
         "Ad": 1,
         "Subject": 106,
         "Y": 0,
         "_deepnote_index_column": 105
        },
        {
         "Region": "NE",
         "Ad": 1,
         "Subject": 107,
         "Y": 0,
         "_deepnote_index_column": 106
        },
        {
         "Region": "NE",
         "Ad": 1,
         "Subject": 108,
         "Y": 0,
         "_deepnote_index_column": 107
        },
        {
         "Region": "NE",
         "Ad": 1,
         "Subject": 109,
         "Y": 0,
         "_deepnote_index_column": 108
        },
        {
         "Region": "NE",
         "Ad": 1,
         "Subject": 110,
         "Y": 0,
         "_deepnote_index_column": 109
        },
        {
         "Region": "NE",
         "Ad": 1,
         "Subject": 111,
         "Y": 0,
         "_deepnote_index_column": 110
        },
        {
         "Region": "NE",
         "Ad": 1,
         "Subject": 112,
         "Y": 0,
         "_deepnote_index_column": 111
        },
        {
         "Region": "NE",
         "Ad": 1,
         "Subject": 113,
         "Y": 1,
         "_deepnote_index_column": 112
        },
        {
         "Region": "NE",
         "Ad": 1,
         "Subject": 114,
         "Y": 0,
         "_deepnote_index_column": 113
        },
        {
         "Region": "NE",
         "Ad": 1,
         "Subject": 115,
         "Y": 0,
         "_deepnote_index_column": 114
        },
        {
         "Region": "NE",
         "Ad": 1,
         "Subject": 116,
         "Y": 1,
         "_deepnote_index_column": 115
        },
        {
         "Region": "NE",
         "Ad": 1,
         "Subject": 117,
         "Y": 1,
         "_deepnote_index_column": 116
        },
        {
         "Region": "NE",
         "Ad": 1,
         "Subject": 118,
         "Y": 1,
         "_deepnote_index_column": 117
        },
        {
         "Region": "NE",
         "Ad": 1,
         "Subject": 119,
         "Y": 0,
         "_deepnote_index_column": 118
        },
        {
         "Region": "NE",
         "Ad": 1,
         "Subject": 120,
         "Y": 1,
         "_deepnote_index_column": 119
        },
        {
         "Region": "NE",
         "Ad": 1,
         "Subject": 121,
         "Y": 0,
         "_deepnote_index_column": 120
        },
        {
         "Region": "NE",
         "Ad": 1,
         "Subject": 122,
         "Y": 0,
         "_deepnote_index_column": 121
        },
        {
         "Region": "NE",
         "Ad": 1,
         "Subject": 123,
         "Y": 0,
         "_deepnote_index_column": 122
        },
        {
         "Region": "NE",
         "Ad": 1,
         "Subject": 124,
         "Y": 1,
         "_deepnote_index_column": 123
        },
        {
         "Region": "NE",
         "Ad": 1,
         "Subject": 125,
         "Y": 1,
         "_deepnote_index_column": 124
        }
       ],
       "rows_bottom": [
        {
         "Region": "W",
         "Ad": 5,
         "Subject": 4876,
         "Y": 1,
         "_deepnote_index_column": 99875
        },
        {
         "Region": "W",
         "Ad": 5,
         "Subject": 4877,
         "Y": 1,
         "_deepnote_index_column": 99876
        },
        {
         "Region": "W",
         "Ad": 5,
         "Subject": 4878,
         "Y": 0,
         "_deepnote_index_column": 99877
        },
        {
         "Region": "W",
         "Ad": 5,
         "Subject": 4879,
         "Y": 0,
         "_deepnote_index_column": 99878
        },
        {
         "Region": "W",
         "Ad": 5,
         "Subject": 4880,
         "Y": 0,
         "_deepnote_index_column": 99879
        },
        {
         "Region": "W",
         "Ad": 5,
         "Subject": 4881,
         "Y": 0,
         "_deepnote_index_column": 99880
        },
        {
         "Region": "W",
         "Ad": 5,
         "Subject": 4882,
         "Y": 0,
         "_deepnote_index_column": 99881
        },
        {
         "Region": "W",
         "Ad": 5,
         "Subject": 4883,
         "Y": 1,
         "_deepnote_index_column": 99882
        },
        {
         "Region": "W",
         "Ad": 5,
         "Subject": 4884,
         "Y": 0,
         "_deepnote_index_column": 99883
        },
        {
         "Region": "W",
         "Ad": 5,
         "Subject": 4885,
         "Y": 0,
         "_deepnote_index_column": 99884
        },
        {
         "Region": "W",
         "Ad": 5,
         "Subject": 4886,
         "Y": 0,
         "_deepnote_index_column": 99885
        },
        {
         "Region": "W",
         "Ad": 5,
         "Subject": 4887,
         "Y": 0,
         "_deepnote_index_column": 99886
        },
        {
         "Region": "W",
         "Ad": 5,
         "Subject": 4888,
         "Y": 0,
         "_deepnote_index_column": 99887
        },
        {
         "Region": "W",
         "Ad": 5,
         "Subject": 4889,
         "Y": 0,
         "_deepnote_index_column": 99888
        },
        {
         "Region": "W",
         "Ad": 5,
         "Subject": 4890,
         "Y": 0,
         "_deepnote_index_column": 99889
        },
        {
         "Region": "W",
         "Ad": 5,
         "Subject": 4891,
         "Y": 1,
         "_deepnote_index_column": 99890
        },
        {
         "Region": "W",
         "Ad": 5,
         "Subject": 4892,
         "Y": 0,
         "_deepnote_index_column": 99891
        },
        {
         "Region": "W",
         "Ad": 5,
         "Subject": 4893,
         "Y": 0,
         "_deepnote_index_column": 99892
        },
        {
         "Region": "W",
         "Ad": 5,
         "Subject": 4894,
         "Y": 1,
         "_deepnote_index_column": 99893
        },
        {
         "Region": "W",
         "Ad": 5,
         "Subject": 4895,
         "Y": 0,
         "_deepnote_index_column": 99894
        },
        {
         "Region": "W",
         "Ad": 5,
         "Subject": 4896,
         "Y": 0,
         "_deepnote_index_column": 99895
        },
        {
         "Region": "W",
         "Ad": 5,
         "Subject": 4897,
         "Y": 0,
         "_deepnote_index_column": 99896
        },
        {
         "Region": "W",
         "Ad": 5,
         "Subject": 4898,
         "Y": 0,
         "_deepnote_index_column": 99897
        },
        {
         "Region": "W",
         "Ad": 5,
         "Subject": 4899,
         "Y": 0,
         "_deepnote_index_column": 99898
        },
        {
         "Region": "W",
         "Ad": 5,
         "Subject": 4900,
         "Y": 0,
         "_deepnote_index_column": 99899
        },
        {
         "Region": "W",
         "Ad": 5,
         "Subject": 4901,
         "Y": 0,
         "_deepnote_index_column": 99900
        },
        {
         "Region": "W",
         "Ad": 5,
         "Subject": 4902,
         "Y": 0,
         "_deepnote_index_column": 99901
        },
        {
         "Region": "W",
         "Ad": 5,
         "Subject": 4903,
         "Y": 0,
         "_deepnote_index_column": 99902
        },
        {
         "Region": "W",
         "Ad": 5,
         "Subject": 4904,
         "Y": 0,
         "_deepnote_index_column": 99903
        },
        {
         "Region": "W",
         "Ad": 5,
         "Subject": 4905,
         "Y": 0,
         "_deepnote_index_column": 99904
        },
        {
         "Region": "W",
         "Ad": 5,
         "Subject": 4906,
         "Y": 0,
         "_deepnote_index_column": 99905
        },
        {
         "Region": "W",
         "Ad": 5,
         "Subject": 4907,
         "Y": 0,
         "_deepnote_index_column": 99906
        },
        {
         "Region": "W",
         "Ad": 5,
         "Subject": 4908,
         "Y": 0,
         "_deepnote_index_column": 99907
        },
        {
         "Region": "W",
         "Ad": 5,
         "Subject": 4909,
         "Y": 0,
         "_deepnote_index_column": 99908
        },
        {
         "Region": "W",
         "Ad": 5,
         "Subject": 4910,
         "Y": 0,
         "_deepnote_index_column": 99909
        },
        {
         "Region": "W",
         "Ad": 5,
         "Subject": 4911,
         "Y": 0,
         "_deepnote_index_column": 99910
        },
        {
         "Region": "W",
         "Ad": 5,
         "Subject": 4912,
         "Y": 0,
         "_deepnote_index_column": 99911
        },
        {
         "Region": "W",
         "Ad": 5,
         "Subject": 4913,
         "Y": 0,
         "_deepnote_index_column": 99912
        },
        {
         "Region": "W",
         "Ad": 5,
         "Subject": 4914,
         "Y": 0,
         "_deepnote_index_column": 99913
        },
        {
         "Region": "W",
         "Ad": 5,
         "Subject": 4915,
         "Y": 0,
         "_deepnote_index_column": 99914
        },
        {
         "Region": "W",
         "Ad": 5,
         "Subject": 4916,
         "Y": 0,
         "_deepnote_index_column": 99915
        },
        {
         "Region": "W",
         "Ad": 5,
         "Subject": 4917,
         "Y": 1,
         "_deepnote_index_column": 99916
        },
        {
         "Region": "W",
         "Ad": 5,
         "Subject": 4918,
         "Y": 1,
         "_deepnote_index_column": 99917
        },
        {
         "Region": "W",
         "Ad": 5,
         "Subject": 4919,
         "Y": 0,
         "_deepnote_index_column": 99918
        },
        {
         "Region": "W",
         "Ad": 5,
         "Subject": 4920,
         "Y": 0,
         "_deepnote_index_column": 99919
        },
        {
         "Region": "W",
         "Ad": 5,
         "Subject": 4921,
         "Y": 1,
         "_deepnote_index_column": 99920
        },
        {
         "Region": "W",
         "Ad": 5,
         "Subject": 4922,
         "Y": 0,
         "_deepnote_index_column": 99921
        },
        {
         "Region": "W",
         "Ad": 5,
         "Subject": 4923,
         "Y": 0,
         "_deepnote_index_column": 99922
        },
        {
         "Region": "W",
         "Ad": 5,
         "Subject": 4924,
         "Y": 0,
         "_deepnote_index_column": 99923
        },
        {
         "Region": "W",
         "Ad": 5,
         "Subject": 4925,
         "Y": 0,
         "_deepnote_index_column": 99924
        },
        {
         "Region": "W",
         "Ad": 5,
         "Subject": 4926,
         "Y": 1,
         "_deepnote_index_column": 99925
        },
        {
         "Region": "W",
         "Ad": 5,
         "Subject": 4927,
         "Y": 1,
         "_deepnote_index_column": 99926
        },
        {
         "Region": "W",
         "Ad": 5,
         "Subject": 4928,
         "Y": 0,
         "_deepnote_index_column": 99927
        },
        {
         "Region": "W",
         "Ad": 5,
         "Subject": 4929,
         "Y": 0,
         "_deepnote_index_column": 99928
        },
        {
         "Region": "W",
         "Ad": 5,
         "Subject": 4930,
         "Y": 1,
         "_deepnote_index_column": 99929
        },
        {
         "Region": "W",
         "Ad": 5,
         "Subject": 4931,
         "Y": 0,
         "_deepnote_index_column": 99930
        },
        {
         "Region": "W",
         "Ad": 5,
         "Subject": 4932,
         "Y": 0,
         "_deepnote_index_column": 99931
        },
        {
         "Region": "W",
         "Ad": 5,
         "Subject": 4933,
         "Y": 0,
         "_deepnote_index_column": 99932
        },
        {
         "Region": "W",
         "Ad": 5,
         "Subject": 4934,
         "Y": 0,
         "_deepnote_index_column": 99933
        },
        {
         "Region": "W",
         "Ad": 5,
         "Subject": 4935,
         "Y": 1,
         "_deepnote_index_column": 99934
        },
        {
         "Region": "W",
         "Ad": 5,
         "Subject": 4936,
         "Y": 0,
         "_deepnote_index_column": 99935
        },
        {
         "Region": "W",
         "Ad": 5,
         "Subject": 4937,
         "Y": 0,
         "_deepnote_index_column": 99936
        },
        {
         "Region": "W",
         "Ad": 5,
         "Subject": 4938,
         "Y": 0,
         "_deepnote_index_column": 99937
        },
        {
         "Region": "W",
         "Ad": 5,
         "Subject": 4939,
         "Y": 0,
         "_deepnote_index_column": 99938
        },
        {
         "Region": "W",
         "Ad": 5,
         "Subject": 4940,
         "Y": 0,
         "_deepnote_index_column": 99939
        },
        {
         "Region": "W",
         "Ad": 5,
         "Subject": 4941,
         "Y": 0,
         "_deepnote_index_column": 99940
        },
        {
         "Region": "W",
         "Ad": 5,
         "Subject": 4942,
         "Y": 0,
         "_deepnote_index_column": 99941
        },
        {
         "Region": "W",
         "Ad": 5,
         "Subject": 4943,
         "Y": 1,
         "_deepnote_index_column": 99942
        },
        {
         "Region": "W",
         "Ad": 5,
         "Subject": 4944,
         "Y": 0,
         "_deepnote_index_column": 99943
        },
        {
         "Region": "W",
         "Ad": 5,
         "Subject": 4945,
         "Y": 0,
         "_deepnote_index_column": 99944
        },
        {
         "Region": "W",
         "Ad": 5,
         "Subject": 4946,
         "Y": 0,
         "_deepnote_index_column": 99945
        },
        {
         "Region": "W",
         "Ad": 5,
         "Subject": 4947,
         "Y": 0,
         "_deepnote_index_column": 99946
        },
        {
         "Region": "W",
         "Ad": 5,
         "Subject": 4948,
         "Y": 0,
         "_deepnote_index_column": 99947
        },
        {
         "Region": "W",
         "Ad": 5,
         "Subject": 4949,
         "Y": 0,
         "_deepnote_index_column": 99948
        },
        {
         "Region": "W",
         "Ad": 5,
         "Subject": 4950,
         "Y": 0,
         "_deepnote_index_column": 99949
        },
        {
         "Region": "W",
         "Ad": 5,
         "Subject": 4951,
         "Y": 0,
         "_deepnote_index_column": 99950
        },
        {
         "Region": "W",
         "Ad": 5,
         "Subject": 4952,
         "Y": 0,
         "_deepnote_index_column": 99951
        },
        {
         "Region": "W",
         "Ad": 5,
         "Subject": 4953,
         "Y": 1,
         "_deepnote_index_column": 99952
        },
        {
         "Region": "W",
         "Ad": 5,
         "Subject": 4954,
         "Y": 1,
         "_deepnote_index_column": 99953
        },
        {
         "Region": "W",
         "Ad": 5,
         "Subject": 4955,
         "Y": 0,
         "_deepnote_index_column": 99954
        },
        {
         "Region": "W",
         "Ad": 5,
         "Subject": 4956,
         "Y": 0,
         "_deepnote_index_column": 99955
        },
        {
         "Region": "W",
         "Ad": 5,
         "Subject": 4957,
         "Y": 1,
         "_deepnote_index_column": 99956
        },
        {
         "Region": "W",
         "Ad": 5,
         "Subject": 4958,
         "Y": 0,
         "_deepnote_index_column": 99957
        },
        {
         "Region": "W",
         "Ad": 5,
         "Subject": 4959,
         "Y": 0,
         "_deepnote_index_column": 99958
        },
        {
         "Region": "W",
         "Ad": 5,
         "Subject": 4960,
         "Y": 0,
         "_deepnote_index_column": 99959
        },
        {
         "Region": "W",
         "Ad": 5,
         "Subject": 4961,
         "Y": 1,
         "_deepnote_index_column": 99960
        },
        {
         "Region": "W",
         "Ad": 5,
         "Subject": 4962,
         "Y": 0,
         "_deepnote_index_column": 99961
        },
        {
         "Region": "W",
         "Ad": 5,
         "Subject": 4963,
         "Y": 0,
         "_deepnote_index_column": 99962
        },
        {
         "Region": "W",
         "Ad": 5,
         "Subject": 4964,
         "Y": 0,
         "_deepnote_index_column": 99963
        },
        {
         "Region": "W",
         "Ad": 5,
         "Subject": 4965,
         "Y": 0,
         "_deepnote_index_column": 99964
        },
        {
         "Region": "W",
         "Ad": 5,
         "Subject": 4966,
         "Y": 1,
         "_deepnote_index_column": 99965
        },
        {
         "Region": "W",
         "Ad": 5,
         "Subject": 4967,
         "Y": 0,
         "_deepnote_index_column": 99966
        },
        {
         "Region": "W",
         "Ad": 5,
         "Subject": 4968,
         "Y": 1,
         "_deepnote_index_column": 99967
        },
        {
         "Region": "W",
         "Ad": 5,
         "Subject": 4969,
         "Y": 0,
         "_deepnote_index_column": 99968
        },
        {
         "Region": "W",
         "Ad": 5,
         "Subject": 4970,
         "Y": 0,
         "_deepnote_index_column": 99969
        },
        {
         "Region": "W",
         "Ad": 5,
         "Subject": 4971,
         "Y": 0,
         "_deepnote_index_column": 99970
        },
        {
         "Region": "W",
         "Ad": 5,
         "Subject": 4972,
         "Y": 0,
         "_deepnote_index_column": 99971
        },
        {
         "Region": "W",
         "Ad": 5,
         "Subject": 4973,
         "Y": 0,
         "_deepnote_index_column": 99972
        },
        {
         "Region": "W",
         "Ad": 5,
         "Subject": 4974,
         "Y": 0,
         "_deepnote_index_column": 99973
        },
        {
         "Region": "W",
         "Ad": 5,
         "Subject": 4975,
         "Y": 0,
         "_deepnote_index_column": 99974
        },
        {
         "Region": "W",
         "Ad": 5,
         "Subject": 4976,
         "Y": 0,
         "_deepnote_index_column": 99975
        },
        {
         "Region": "W",
         "Ad": 5,
         "Subject": 4977,
         "Y": 0,
         "_deepnote_index_column": 99976
        },
        {
         "Region": "W",
         "Ad": 5,
         "Subject": 4978,
         "Y": 1,
         "_deepnote_index_column": 99977
        },
        {
         "Region": "W",
         "Ad": 5,
         "Subject": 4979,
         "Y": 0,
         "_deepnote_index_column": 99978
        },
        {
         "Region": "W",
         "Ad": 5,
         "Subject": 4980,
         "Y": 0,
         "_deepnote_index_column": 99979
        },
        {
         "Region": "W",
         "Ad": 5,
         "Subject": 4981,
         "Y": 0,
         "_deepnote_index_column": 99980
        },
        {
         "Region": "W",
         "Ad": 5,
         "Subject": 4982,
         "Y": 0,
         "_deepnote_index_column": 99981
        },
        {
         "Region": "W",
         "Ad": 5,
         "Subject": 4983,
         "Y": 0,
         "_deepnote_index_column": 99982
        },
        {
         "Region": "W",
         "Ad": 5,
         "Subject": 4984,
         "Y": 0,
         "_deepnote_index_column": 99983
        },
        {
         "Region": "W",
         "Ad": 5,
         "Subject": 4985,
         "Y": 0,
         "_deepnote_index_column": 99984
        },
        {
         "Region": "W",
         "Ad": 5,
         "Subject": 4986,
         "Y": 0,
         "_deepnote_index_column": 99985
        },
        {
         "Region": "W",
         "Ad": 5,
         "Subject": 4987,
         "Y": 0,
         "_deepnote_index_column": 99986
        },
        {
         "Region": "W",
         "Ad": 5,
         "Subject": 4988,
         "Y": 0,
         "_deepnote_index_column": 99987
        },
        {
         "Region": "W",
         "Ad": 5,
         "Subject": 4989,
         "Y": 0,
         "_deepnote_index_column": 99988
        },
        {
         "Region": "W",
         "Ad": 5,
         "Subject": 4990,
         "Y": 0,
         "_deepnote_index_column": 99989
        },
        {
         "Region": "W",
         "Ad": 5,
         "Subject": 4991,
         "Y": 0,
         "_deepnote_index_column": 99990
        },
        {
         "Region": "W",
         "Ad": 5,
         "Subject": 4992,
         "Y": 0,
         "_deepnote_index_column": 99991
        },
        {
         "Region": "W",
         "Ad": 5,
         "Subject": 4993,
         "Y": 0,
         "_deepnote_index_column": 99992
        },
        {
         "Region": "W",
         "Ad": 5,
         "Subject": 4994,
         "Y": 0,
         "_deepnote_index_column": 99993
        },
        {
         "Region": "W",
         "Ad": 5,
         "Subject": 4995,
         "Y": 1,
         "_deepnote_index_column": 99994
        },
        {
         "Region": "W",
         "Ad": 5,
         "Subject": 4996,
         "Y": 1,
         "_deepnote_index_column": 99995
        },
        {
         "Region": "W",
         "Ad": 5,
         "Subject": 4997,
         "Y": 1,
         "_deepnote_index_column": 99996
        },
        {
         "Region": "W",
         "Ad": 5,
         "Subject": 4998,
         "Y": 0,
         "_deepnote_index_column": 99997
        },
        {
         "Region": "W",
         "Ad": 5,
         "Subject": 4999,
         "Y": 0,
         "_deepnote_index_column": 99998
        },
        {
         "Region": "W",
         "Ad": 5,
         "Subject": 5000,
         "Y": 0,
         "_deepnote_index_column": 99999
        }
       ]
      },
      "text/plain": "      Region  Ad  Subject  Y\n0         NE   1        1  0\n1         NE   1        2  1\n2         NE   1        3  1\n3         NE   1        4  0\n4         NE   1        5  0\n...      ...  ..      ... ..\n99995      W   5     4996  1\n99996      W   5     4997  1\n99997      W   5     4998  0\n99998      W   5     4999  0\n99999      W   5     5000  0\n\n[100000 rows x 4 columns]",
      "text/html": "<div>\n<style scoped>\n    .dataframe tbody tr th:only-of-type {\n        vertical-align: middle;\n    }\n\n    .dataframe tbody tr th {\n        vertical-align: top;\n    }\n\n    .dataframe thead th {\n        text-align: right;\n    }\n</style>\n<table border=\"1\" class=\"dataframe\">\n  <thead>\n    <tr style=\"text-align: right;\">\n      <th></th>\n      <th>Region</th>\n      <th>Ad</th>\n      <th>Subject</th>\n      <th>Y</th>\n    </tr>\n  </thead>\n  <tbody>\n    <tr>\n      <th>0</th>\n      <td>NE</td>\n      <td>1</td>\n      <td>1</td>\n      <td>0</td>\n    </tr>\n    <tr>\n      <th>1</th>\n      <td>NE</td>\n      <td>1</td>\n      <td>2</td>\n      <td>1</td>\n    </tr>\n    <tr>\n      <th>2</th>\n      <td>NE</td>\n      <td>1</td>\n      <td>3</td>\n      <td>1</td>\n    </tr>\n    <tr>\n      <th>3</th>\n      <td>NE</td>\n      <td>1</td>\n      <td>4</td>\n      <td>0</td>\n    </tr>\n    <tr>\n      <th>4</th>\n      <td>NE</td>\n      <td>1</td>\n      <td>5</td>\n      <td>0</td>\n    </tr>\n    <tr>\n      <th>...</th>\n      <td>...</td>\n      <td>...</td>\n      <td>...</td>\n      <td>...</td>\n    </tr>\n    <tr>\n      <th>99995</th>\n      <td>W</td>\n      <td>5</td>\n      <td>4996</td>\n      <td>1</td>\n    </tr>\n    <tr>\n      <th>99996</th>\n      <td>W</td>\n      <td>5</td>\n      <td>4997</td>\n      <td>1</td>\n    </tr>\n    <tr>\n      <th>99997</th>\n      <td>W</td>\n      <td>5</td>\n      <td>4998</td>\n      <td>0</td>\n    </tr>\n    <tr>\n      <th>99998</th>\n      <td>W</td>\n      <td>5</td>\n      <td>4999</td>\n      <td>0</td>\n    </tr>\n    <tr>\n      <th>99999</th>\n      <td>W</td>\n      <td>5</td>\n      <td>5000</td>\n      <td>0</td>\n    </tr>\n  </tbody>\n</table>\n<p>100000 rows × 4 columns</p>\n</div>"
     },
     "metadata": {}
    }
   ]
  },
  {
   "cell_type": "code",
   "metadata": {
    "colab": {
     "base_uri": "https://localhost:8080/"
    },
    "id": "j40yMrHEoCTJ",
    "outputId": "02b2a4e7-b4e0-43fe-84dd-8f6503ec127b",
    "cell_id": "00044-971eaca1-8f8c-4391-a3e3-5fec0886c4ee",
    "deepnote_to_be_reexecuted": false,
    "source_hash": "a14620c3",
    "execution_start": 1624599025488,
    "execution_millis": 293,
    "deepnote_cell_type": "code"
   },
   "source": "for r in np.unique(nike['Region']):\n    print(f'region {r}')\n    for a in range(1,6):\n        data = nike[(nike['Ad']==a) & (nike['Region']==r)]\n        mean = np.mean(data['Y'])\n        print(\"\\tCTR of Ad {a} is {mean}\".format(a=a, r=r, mean=mean))",
   "execution_count": 8,
   "outputs": [
    {
     "name": "stdout",
     "text": "region MW\n\tCTR of Ad 1 is 0.2084\n\tCTR of Ad 2 is 0.3172\n\tCTR of Ad 3 is 0.0976\n\tCTR of Ad 4 is 0.1984\n\tCTR of Ad 5 is 0.1978\nregion NE\n\tCTR of Ad 1 is 0.2964\n\tCTR of Ad 2 is 0.2024\n\tCTR of Ad 3 is 0.1028\n\tCTR of Ad 4 is 0.2938\n\tCTR of Ad 5 is 0.2044\nregion S\n\tCTR of Ad 1 is 0.1478\n\tCTR of Ad 2 is 0.1984\n\tCTR of Ad 3 is 0.1044\n\tCTR of Ad 4 is 0.206\n\tCTR of Ad 5 is 0.302\nregion W\n\tCTR of Ad 1 is 0.297\n\tCTR of Ad 2 is 0.209\n\tCTR of Ad 3 is 0.1052\n\tCTR of Ad 4 is 0.3016\n\tCTR of Ad 5 is 0.1988\n",
     "output_type": "stream"
    }
   ]
  },
  {
   "cell_type": "code",
   "metadata": {
    "id": "Fx9wbJ99c0My",
    "cell_id": "00043-89d3fc1a-41d1-413f-a6df-bc4d239cb2be",
    "deepnote_to_be_reexecuted": false,
    "source_hash": "d662b0b1",
    "execution_start": 1624599027887,
    "execution_millis": 1,
    "deepnote_cell_type": "code"
   },
   "source": "def pairwise_z_test(s1, s2, alpha):\n    # z test \n    n1 = len(s1)\n    n2 = len(s2)\n\n    pi_1_hat = len(s1[s1['Y']==1])/n1\n    pi_2_hat = len(s2[s2['Y']==1])/n2\n\n    pi_hat = (n1*pi_1_hat + n2*pi_2_hat) / (n1 + n2)\n\n    t_stat = (pi_1_hat-pi_2_hat) / ((pi_hat*(1-pi_hat)*(1/n1+1/n2))**0.5)\n\n    pval = stats.norm.sf(abs(t_stat))  # one sided\n    \n    if pval < alpha: \n        print(\"Reject H0.\")    \n    else: \n        print(\"Do not reject H0. \")\n    return pval",
   "execution_count": 9,
   "outputs": []
  },
  {
   "cell_type": "markdown",
   "source": "## Region MW",
   "metadata": {
    "id": "Xg3PYnGvhVoX",
    "cell_id": "00045-11caa328-3cd5-4121-aa85-68de84469b8f",
    "deepnote_cell_type": "markdown"
   }
  },
  {
   "cell_type": "code",
   "metadata": {
    "id": "D3JQqvudc0My",
    "cell_id": "00046-ffc424cc-a2a7-4374-b11f-ee1b8529ade5",
    "deepnote_to_be_reexecuted": false,
    "source_hash": "c0410dd2",
    "execution_start": 1624599029722,
    "execution_millis": 3,
    "deepnote_cell_type": "code"
   },
   "source": "nike_mw = nike[nike['Region']=='MW']",
   "execution_count": 10,
   "outputs": []
  },
  {
   "cell_type": "markdown",
   "source": "### test 1:  \nH0: proportion_1 >= proportion_2  \nHa: proportion_1 < proportion_2 ",
   "metadata": {
    "tags": [],
    "cell_id": "00046-bb3456fd-60fb-4084-8bac-f8a9dbdc5be0",
    "deepnote_cell_type": "markdown"
   }
  },
  {
   "cell_type": "code",
   "metadata": {
    "id": "bCeXv9TchnGy",
    "cell_id": "00047-32b73f6a-2b03-44b6-aeab-f99d42ed2831",
    "deepnote_to_be_reexecuted": false,
    "source_hash": "52578bf7",
    "execution_start": 1624599031572,
    "execution_millis": 18,
    "deepnote_cell_type": "code"
   },
   "source": "pairwise_z_test(nike_mw[nike_mw['Ad']==1], nike_mw[nike_mw['Ad']==2], 0.05)",
   "execution_count": 11,
   "outputs": [
    {
     "name": "stdout",
     "text": "Reject H0.\n",
     "output_type": "stream"
    },
    {
     "output_type": "execute_result",
     "execution_count": 11,
     "data": {
      "text/plain": "2.1698381079114035e-35"
     },
     "metadata": {}
    }
   ]
  },
  {
   "cell_type": "markdown",
   "source": "### test 2:  \nH0: proportion_4 >= proportion_1  \nHa: proportion_4 < proportion_1",
   "metadata": {
    "tags": [],
    "cell_id": "00048-52d5a6f2-e0aa-480d-94f2-a6b80db95fd2",
    "deepnote_cell_type": "markdown"
   }
  },
  {
   "cell_type": "code",
   "source": "pairwise_z_test(nike_mw[nike_mw['Ad']==4], nike_mw[nike_mw['Ad']==1], 0.05)",
   "metadata": {
    "tags": [],
    "cell_id": "00048-1352f7aa-ae9a-4ba2-8ce2-da5adc43f293",
    "deepnote_to_be_reexecuted": false,
    "source_hash": "72ff8388",
    "execution_start": 1624599254818,
    "execution_millis": 9,
    "deepnote_cell_type": "code"
   },
   "outputs": [
    {
     "name": "stdout",
     "text": "Do not reject H0. \n",
     "output_type": "stream"
    },
    {
     "output_type": "execute_result",
     "execution_count": 12,
     "data": {
      "text/plain": "0.10709043488813086"
     },
     "metadata": {}
    }
   ],
   "execution_count": 12
  },
  {
   "cell_type": "markdown",
   "source": "### test 3:  \nH0: proportion_5 >= proportion_1  \nHa: proportion_5 < proportion_1",
   "metadata": {
    "tags": [],
    "cell_id": "00050-b3d256f5-7d72-4f7c-a2db-564d8a9cacf0",
    "deepnote_cell_type": "markdown"
   }
  },
  {
   "cell_type": "code",
   "source": "pairwise_z_test(nike_mw[nike_mw['Ad']==5], nike_mw[nike_mw['Ad']==1], 0.05)",
   "metadata": {
    "tags": [],
    "cell_id": "00047-0f5b542d-1d9d-4ac2-a5e4-38d8a876fda4",
    "deepnote_to_be_reexecuted": false,
    "source_hash": "64aabb86",
    "execution_start": 1624599292410,
    "execution_millis": 7,
    "deepnote_cell_type": "code"
   },
   "outputs": [
    {
     "name": "stdout",
     "text": "Do not reject H0. \n",
     "output_type": "stream"
    },
    {
     "output_type": "execute_result",
     "execution_count": 13,
     "data": {
      "text/plain": "0.09385161192441599"
     },
     "metadata": {}
    }
   ],
   "execution_count": 13
  },
  {
   "cell_type": "markdown",
   "source": "### test 4:  \nH0: proportion_1 <= proportion_3  \nHa: proportion_1 > proportion_3",
   "metadata": {
    "tags": [],
    "cell_id": "00052-260e3718-c309-4244-b0c3-029d20fc8cd3",
    "deepnote_cell_type": "markdown"
   }
  },
  {
   "cell_type": "code",
   "source": "pairwise_z_test(nike_mw[nike_mw['Ad']==1], nike_mw[nike_mw['Ad']==3], 0.05)",
   "metadata": {
    "tags": [],
    "cell_id": "00047-22426622-1d6f-49b6-a033-d796ae6cf379",
    "deepnote_to_be_reexecuted": false,
    "source_hash": "ac90dbcb",
    "execution_start": 1624599494265,
    "execution_millis": 12,
    "deepnote_cell_type": "code"
   },
   "outputs": [
    {
     "name": "stdout",
     "text": "Reject H0.\n",
     "output_type": "stream"
    },
    {
     "output_type": "execute_result",
     "execution_count": 17,
     "data": {
      "text/plain": "9.637129489611536e-54"
     },
     "metadata": {}
    }
   ],
   "execution_count": 17
  },
  {
   "cell_type": "markdown",
   "source": "The highest CTR is Ad2 and the lowest CTR is Ad3",
   "metadata": {
    "tags": [],
    "cell_id": "00054-c2899e4f-b88b-4a40-9aaf-726c436ba5a3",
    "deepnote_cell_type": "markdown"
   }
  },
  {
   "cell_type": "markdown",
   "source": "",
   "metadata": {
    "tags": [],
    "cell_id": "00054-ae90789c-8960-4abc-8127-c8e5defea5a9",
    "deepnote_cell_type": "markdown"
   }
  },
  {
   "cell_type": "markdown",
   "source": "# 4",
   "metadata": {
    "id": "kQzoFi8qc0Mz",
    "cell_id": "00059-6c36d05f-4efa-422f-99a9-b316984c7d82",
    "deepnote_cell_type": "markdown"
   }
  },
  {
   "cell_type": "markdown",
   "source": "## (a)",
   "metadata": {
    "id": "LEFaLqw7c0Mz",
    "cell_id": "00060-cac8f2b9-3db2-44f3-a039-1360f38653ca",
    "deepnote_cell_type": "markdown"
   }
  },
  {
   "cell_type": "code",
   "metadata": {
    "id": "1hGxWiWCc0Mz",
    "cell_id": "00061-16d4ef12-8eb7-4533-b2b6-27296f9fca41",
    "deepnote_cell_type": "code"
   },
   "source": "# ε-greedy\ndef epsilon_greedy(epsilon, conditions, units):\n    k = len(conditions)\n    n = units\n    dic = {i:[] for i in range(k)}\n    for i in range(k):\n        dic[i].append(np.random.choice(conditions[i],1)[0])\n    for j in range(k, n):\n        p = np.random.binomial(1,1-epsilon)\n        means = [np.mean(v) for s,v in dic.items()]\n        means_max_index = means.index(np.max(means))\n        if p == 1:\n            new_assign = np.random.choice(conditions[means_max_index],1)[0]\n            dic[means_max_index].append(new_assign)\n        else:\n            others = [i for i in range(k)]\n            others.remove(means_max_index)\n            choice = np.random.choice(others, 1)[0]\n            new_assign = np.random.choice(conditions[choice],1)[0]\n            dic[means_max_index].append(new_assign)\n    return [round(np.mean(v),2) for u,v in dic.items()]\n         ",
   "execution_count": null,
   "outputs": []
  },
  {
   "cell_type": "markdown",
   "source": "## (b)",
   "metadata": {
    "id": "qlclhnDPc0Mz",
    "cell_id": "00062-3dcce395-ad4b-4cef-8851-517f6096372c",
    "deepnote_cell_type": "markdown"
   }
  },
  {
   "cell_type": "code",
   "metadata": {
    "id": "hVZ-MJdAc0Mz",
    "cell_id": "00063-0f628a6f-7fd2-45bf-9543-9375ab74f46e",
    "deepnote_to_be_reexecuted": false,
    "source_hash": "7d11f3ca",
    "execution_start": 1624600075281,
    "execution_millis": 1,
    "deepnote_cell_type": "code"
   },
   "source": "# UCB\ndef ucb(conditions, units):\n    k = len(conditions)\n    n = units\n    dic = {i:[] for i in range(k)}\n    for i in range(k*10):\n        i = i % k\n        dic[i].append(np.random.choice(conditions[i],1)[0])\n    for j in range(k*10, n):\n        means = [np.mean(v) for s,v in dic.items()]\n        stds = [np.std(v) for s,v in dic.items()]\n        ucb = [means[i]+3*stds[i] for i in range(k)]\n        arm = ucb.index(np.max(ucb))\n        new_assign = np.random.choice(conditions[arm],1)[0]\n        dic[arm].append(new_assign)   \n    return [round(np.mean(v),2) for u,v in dic.items()]",
   "execution_count": 19,
   "outputs": []
  },
  {
   "cell_type": "markdown",
   "source": "## (c)",
   "metadata": {
    "id": "3YAHK9v_c0M0",
    "cell_id": "00064-c016577f-77ac-4fe6-9f33-9f352db979f4",
    "deepnote_cell_type": "markdown"
   }
  },
  {
   "cell_type": "code",
   "metadata": {
    "id": "sLezwqekc0M0",
    "cell_id": "00065-02938c10-db61-47e9-96d9-76b2c83a4164",
    "deepnote_cell_type": "code"
   },
   "source": "# softmax\ndef softmax(conditions, units):\n    k = len(conditions)\n    n = units\n    dic = {i:[] for i in range(k)}\n    for i in range(k):\n        dic[i].append(np.random.choice(conditions[i],1)[0])\n    for j in range(k, n):\n        means = [np.mean(v) for s,v in dic.items()]\n        means_exp = [np.exp(m) for m in means]\n        prob = np.array([np.exp(means[i])/sum(means_exp) for i in range(k)])\n        arm = np.random.choice([i for i in range(k)], p = prob.ravel())\n        new_assign = np.random.choice(conditions[arm],1)[0]\n        dic[arm].append(new_assign)   \n    return [round(np.mean(v),2) for u,v in dic.items()]",
   "execution_count": null,
   "outputs": []
  },
  {
   "cell_type": "markdown",
   "source": "## Simulation",
   "metadata": {
    "id": "kKIC6n7vc0M0",
    "cell_id": "00066-85ca9c75-0637-471f-8d6c-bb435f0e3f40",
    "deepnote_cell_type": "markdown"
   }
  },
  {
   "cell_type": "code",
   "metadata": {
    "id": "28wo6xMdc0M0",
    "cell_id": "00067-35e946ac-1d25-443b-8f85-876f449af33b",
    "deepnote_to_be_reexecuted": false,
    "source_hash": "58e53a39",
    "execution_start": 1624600080774,
    "execution_millis": 2,
    "deepnote_cell_type": "code"
   },
   "source": "units = 1000\ncondition_1 = np.random.binomial(1,0.2,units)\ncondition_2 = np.random.binomial(1,0.5,units)\ncondition_3 = np.random.binomial(1,0.8,units)\nconditions = [condition_1, condition_2, condition_3]",
   "execution_count": 20,
   "outputs": []
  },
  {
   "cell_type": "code",
   "metadata": {
    "colab": {
     "base_uri": "https://localhost:8080/"
    },
    "id": "RzK6u4zPc0M0",
    "outputId": "fad6a505-e43b-4d51-88a1-11e8cb38786d",
    "cell_id": "00068-0e4b6917-9174-4542-8200-1238c632bffa",
    "deepnote_cell_type": "code"
   },
   "source": "epsilon_greedy(0.5, conditions, units)",
   "execution_count": null,
   "outputs": [
    {
     "output_type": "execute_result",
     "data": {
      "text/plain": "[0.0, 0.5, 0.58]"
     },
     "metadata": {
      "tags": []
     },
     "execution_count": 30
    }
   ]
  },
  {
   "cell_type": "markdown",
   "source": "Means of 3 arms are 0, 0.5, 0.58 respectively.",
   "metadata": {
    "id": "NJkzp4Hmc0M0",
    "cell_id": "00069-06e82441-5361-40e9-93db-9d989e8ecd9f",
    "deepnote_cell_type": "markdown"
   }
  },
  {
   "cell_type": "code",
   "metadata": {
    "colab": {
     "base_uri": "https://localhost:8080/"
    },
    "id": "H0lQ2M9Ec0M1",
    "outputId": "ab0ea1d7-90b6-4846-d2e0-eaf472efd8a4",
    "cell_id": "00070-179beb1f-8fc1-4eaa-b6f9-6060fa53abfc",
    "deepnote_to_be_reexecuted": false,
    "source_hash": "1a6344c9",
    "execution_start": 1624600085250,
    "execution_millis": 405,
    "deepnote_cell_type": "code"
   },
   "source": "ucb(conditions, units)",
   "execution_count": 21,
   "outputs": [
    {
     "output_type": "execute_result",
     "execution_count": 21,
     "data": {
      "text/plain": "[0.0, 0.31, 0.81]"
     },
     "metadata": {}
    }
   ]
  },
  {
   "cell_type": "markdown",
   "source": "Means of 3 arms are 0.1, 0.31, 0.81 respectively.",
   "metadata": {
    "id": "6FSPyG2Vc0M1",
    "cell_id": "00071-0cd4440e-8b66-44c3-9fac-ae8af8c836f4",
    "deepnote_cell_type": "markdown"
   }
  },
  {
   "cell_type": "code",
   "metadata": {
    "colab": {
     "base_uri": "https://localhost:8080/"
    },
    "id": "gHwIYLGDc0M1",
    "outputId": "93c09bc7-f244-4198-b5a2-a87769df1a6e",
    "cell_id": "00072-6eabd314-d185-4e46-8af3-252b045b99fb",
    "deepnote_cell_type": "code"
   },
   "source": "softmax(conditions, units)",
   "execution_count": null,
   "outputs": [
    {
     "output_type": "execute_result",
     "data": {
      "text/plain": "[0.2, 0.52, 0.79]"
     },
     "metadata": {
      "tags": []
     },
     "execution_count": 32
    }
   ]
  },
  {
   "cell_type": "markdown",
   "source": "Means of 3 arms are 0.2, 0.52, 0.79 respectively.",
   "metadata": {
    "id": "Y9BMprXUc0M1",
    "cell_id": "00073-c060e77e-4c9b-44dc-b01e-c88a7c9ad15b",
    "deepnote_cell_type": "markdown"
   }
  },
  {
   "cell_type": "markdown",
   "source": "<a style='text-decoration:none;line-height:16px;display:flex;color:#5B5B62;padding:10px;justify-content:end;' href='https://deepnote.com?utm_source=created-in-deepnote-cell&projectId=38d4ab31-3429-4a17-9b90-72da57a64579' target=\"_blank\">\n<img alt='Created in deepnote.com' style='display:inline;max-height:16px;margin:0px;margin-right:7.5px;' src='data:image/svg+xml;base64,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' > </img>\nCreated in <span style='font-weight:600;margin-left:4px;'>Deepnote</span></a>",
   "metadata": {
    "tags": [],
    "created_in_deepnote_cell": true,
    "deepnote_cell_type": "markdown"
   }
  }
 ],
 "nbformat": 4,
 "nbformat_minor": 0,
 "metadata": {
  "kernelspec": {
   "display_name": "Python 3",
   "language": "python",
   "name": "python3"
  },
  "language_info": {
   "codemirror_mode": {
    "name": "ipython",
    "version": 3
   },
   "file_extension": ".py",
   "mimetype": "text/x-python",
   "name": "python",
   "nbconvert_exporter": "python",
   "pygments_lexer": "ipython3",
   "version": "3.8.2"
  },
  "colab": {
   "name": "hw3-2.ipynb",
   "provenance": [],
   "collapsed_sections": [
    "63iPyMh1c0Mr",
    "ck63VQ-Jc0Mr",
    "XtO2nv8jc0Ms"
   ]
  },
  "deepnote_notebook_id": "060a2a21-fe3e-483a-91d0-0f37bf1f616c",
  "deepnote": {},
  "deepnote_execution_queue": []
 }
}